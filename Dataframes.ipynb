{
 "cells": [
  {
   "cell_type": "markdown",
   "metadata": {},
   "source": [
    "# Librerias de apoyo"
   ]
  },
  {
   "cell_type": "code",
   "execution_count": 1,
   "metadata": {},
   "outputs": [],
   "source": [
    "import numpy as np\n",
    "import pandas as pd\n",
    "import matplotlib.pyplot as plt\n",
    "import cv2 as cv\n",
    "\n",
    "from glob import glob\n",
    "from scipy.spatial import distance as dist\n",
    "from imutils import perspective\n",
    "from imutils import contours\n",
    "import imutils"
   ]
  },
  {
   "cell_type": "code",
   "execution_count": 2,
   "metadata": {},
   "outputs": [],
   "source": [
    "import math\n",
    "def area_elipse(a,b):\n",
    "    \n",
    "    area=(a/2)*(b/2)*math.pi\n",
    "    return area\n",
    "\n",
    "def perimetro_elipse(a,b):\n",
    "    #usando aproximación de Ramanujan\n",
    "    perimetro=math.pi*(3.0*(a+b)-math.sqrt((3.0*a+b)*(a+3.0*b)))\n",
    "    return perimetro\n",
    "\n",
    "def hsv_convert(image):\n",
    "    return cv.cvtColor(img, cv.COLOR_BGR2HSV)\n",
    "\n",
    "# Regresa la imagen en escala de grises\n",
    "def grey(image):\n",
    "    return cv.cvtColor(image, cv.COLOR_BGR2GRAY)\n",
    "\n",
    "#Definimos una función que retorne la mascara para el color rojo\n",
    "def f_mask_green(image):\n",
    "#    lower_green = np.array([6,100,7])\n",
    "    lower_green = np.array([6,64,7])\n",
    "    upper_green = np.array([78,255,255])\n",
    "    \n",
    "    img_hsv=hsv_convert(image)\n",
    "    mask_green = cv.inRange(img_hsv,lower_green,upper_green)\n",
    "    \n",
    "    return mask_green\n"
   ]
  },
  {
   "cell_type": "code",
   "execution_count": 3,
   "metadata": {},
   "outputs": [],
   "source": [
    "def contornos(img):\n",
    "    gray = cv.cvtColor(img, cv.COLOR_BGR2GRAY)\n",
    "    blurred = cv.medianBlur(gray,5)#13)\n",
    "    thr, imagen_th_grey = cv.threshold(blurred, 1,255, cv.THRESH_BINARY)\n",
    "    edged = cv.Canny(imagen_th_grey, 1, 150)\n",
    "\n",
    "    cnts = cv.findContours(edged.copy(), cv.RETR_EXTERNAL, cv.CHAIN_APPROX_SIMPLE)\n",
    "    cnts = imutils.grab_contours(cnts)\n",
    "    (cnts, _) = contours.sort_contours(cnts)\n",
    "    \n",
    "\n",
    "    mayor=0\n",
    "    mayor_i=0\n",
    "    #print(len(cnts[0])) \n",
    "    #print(len(cnts[1])) \n",
    "    \n",
    "    for i in range(len(cnts)) :\n",
    "        if len(cnts[i]) > mayor :\n",
    "            mayor_i = i\n",
    "            mayor = len(cnts[i])\n",
    "    return [cnts[mayor_i]]"
   ]
  },
  {
   "cell_type": "code",
   "execution_count": 4,
   "metadata": {},
   "outputs": [],
   "source": [
    "# función para quitar el pendúnculo\n",
    "def digit(img):\n",
    "    kernel = np.ones((5,5),np.uint8)\n",
    "    img_mask=f_mask_green(img)\n",
    "    img_mask = cv.medianBlur(img_mask,13)\n",
    "    img_mask=np.logical_not(img_mask)\n",
    "    img[img_mask] = 0\n",
    "    img_opening = cv.morphologyEx(img, cv.MORPH_OPEN, kernel, iterations=9) #12\n",
    "    #img_opening = cv.dilate(img_opening,kernel,iterations = 10) #\n",
    "    img_grey=grey(img_opening)\n",
    "    thr, imagen_th_grey = cv.threshold(img_grey, 4,255, cv.THRESH_TOZERO)\n",
    "    img_mask2=np.logical_not(imagen_th_grey)\n",
    "    img[img_mask2] = 0\n",
    "    \n",
    "    cnts= contornos(img)\n",
    "    print(len(cnts[0]))\n",
    "    \n",
    "        \n",
    "    mask = np.zeros(img.shape, np.uint8)\n",
    "    img_mask_cnts = cv.drawContours(mask, cnts, -1, (255,255,255),-1)\n",
    "    img_mask_cnts=np.logical_not(img_mask_cnts)\n",
    "    \n",
    "    img[img_mask_cnts] = 0\n",
    "    \n",
    "    return img"
   ]
  },
  {
   "cell_type": "code",
   "execution_count": 5,
   "metadata": {},
   "outputs": [],
   "source": [
    "#data=\"muestras\" #fondo negro y sin rotar\n",
    "#data=\"muestras_rotadas\" fondo negro y con rotación\n",
    "data=\"muestras_DA\" #Data Augmentation Manual"
   ]
  },
  {
   "cell_type": "markdown",
   "metadata": {},
   "source": [
    "# Preparando el datafrema  de entrenamiento (training)"
   ]
  },
  {
   "cell_type": "code",
   "execution_count": 6,
   "metadata": {},
   "outputs": [
    {
     "name": "stdout",
     "output_type": "stream",
     "text": [
      "2936\n"
     ]
    }
   ],
   "source": [
    "# Dataframe Primera clase\n",
    "count = 0\n",
    "df_primera_e = pd.DataFrame()\n",
    "\n",
    "#for imagen in glob('muestras_rotadas/Primera/Training/*.jpg'):\n",
    "for imagen in glob(data + '/Primera/Training/*.jpg'):\n",
    "    img = cv.imread(imagen)\n",
    "\n",
    "    \n",
    "    cnts= contornos(img)\n",
    "    minRect = [None]*len(cnts)\n",
    "    minEllipse = [None]*len(cnts)\n",
    "    for i, c in enumerate(cnts):\n",
    "        minRect[i] = cv.minAreaRect(c)\n",
    "        if c.shape[0] > 5:\n",
    "            minEllipse[i] = cv.fitEllipse(c)\n",
    "\n",
    "    centerx_elipse= np.array(minEllipse[0][0])[0]\n",
    "    centery_elipse= np.array(minEllipse[0][0])[1]\n",
    "\n",
    "    large_elipse= np.array(minEllipse[0][1])[1]\n",
    "    width_elipse= np.array(minEllipse[0][1])[0]\n",
    "\n",
    "    area= area_elipse(large_elipse, width_elipse)\n",
    "    perimetro=perimetro_elipse(large_elipse, width_elipse)\n",
    "\n",
    "\n",
    "    img_gray = cv.cvtColor(img, cv.COLOR_BGR2GRAY)\n",
    "    img_r = cv.resize(img_gray, (48,31), interpolation = cv.INTER_NEAREST)\n",
    "    #img_r = cv.resize(img_gray, (95,62), interpolation = cv.INTER_NEAREST)\n",
    "    datos= [1, centerx_elipse, centery_elipse, large_elipse, width_elipse, area, perimetro]\n",
    "    fila = np.append(datos,  img_r.flatten())\n",
    "    fila = fila.reshape(1, 1495  )\n",
    "    #fila = fila.reshape(1, 5897  )\n",
    "    df_primera_e = df_primera_e.append(pd.DataFrame(fila))\n",
    "    count = count + 1\n",
    "print(count)"
   ]
  },
  {
   "cell_type": "code",
   "execution_count": 7,
   "metadata": {},
   "outputs": [
    {
     "name": "stdout",
     "output_type": "stream",
     "text": [
      "4336\n"
     ]
    }
   ],
   "source": [
    "# Dataframe segunda clase\n",
    "count = 0\n",
    "df_segunda_e = pd.DataFrame()\n",
    "for imagen in glob(data + '/Segunda/Training/*.jpg'):\n",
    "    img = cv.imread(imagen)\n",
    "\n",
    "    \n",
    "    cnts= contornos(img)\n",
    "    minRect = [None]*len(cnts)\n",
    "    minEllipse = [None]*len(cnts)\n",
    "    for i, c in enumerate(cnts):\n",
    "        minRect[i] = cv.minAreaRect(c)\n",
    "        if c.shape[0] > 5:\n",
    "            minEllipse[i] = cv.fitEllipse(c)\n",
    "\n",
    "    centerx_elipse= np.array(minEllipse[0][0])[0]\n",
    "    centery_elipse= np.array(minEllipse[0][0])[1]\n",
    "\n",
    "    large_elipse= np.array(minEllipse[0][1])[1]\n",
    "    width_elipse= np.array(minEllipse[0][1])[0]\n",
    "\n",
    "    area= area_elipse(large_elipse, width_elipse)\n",
    "    perimetro=perimetro_elipse(large_elipse, width_elipse)\n",
    "\n",
    "\n",
    "    img_gray = cv.cvtColor(img, cv.COLOR_BGR2GRAY)\n",
    "    img_r = cv.resize(img_gray, (48,31), interpolation = cv.INTER_NEAREST)\n",
    "    #img_r = cv.resize(img_gray, (95,62), interpolation = cv.INTER_NEAREST)\n",
    "    datos= [2, centerx_elipse, centery_elipse, large_elipse, width_elipse, area, perimetro]\n",
    "    fila = np.append(datos,  img_r.flatten())\n",
    "    fila = fila.reshape(1, 1495  )\n",
    "    #fila = fila.reshape(1, 5897  )\n",
    "    df_segunda_e = df_segunda_e.append(pd.DataFrame(fila))\n",
    "    count = count + 1\n",
    "print(count)"
   ]
  },
  {
   "cell_type": "code",
   "execution_count": 8,
   "metadata": {},
   "outputs": [
    {
     "name": "stdout",
     "output_type": "stream",
     "text": [
      "2084\n"
     ]
    }
   ],
   "source": [
    "# Dataframe tercera clase\n",
    "count = 0\n",
    "df_tercera_e = pd.DataFrame()\n",
    "for imagen in glob(data + '/Tercera/Training/*.jpg'):\n",
    "    img = cv.imread(imagen)\n",
    "\n",
    "    \n",
    "    cnts= contornos(img)\n",
    "    minRect = [None]*len(cnts)\n",
    "    minEllipse = [None]*len(cnts)\n",
    "    for i, c in enumerate(cnts):\n",
    "        minRect[i] = cv.minAreaRect(c)\n",
    "        if c.shape[0] > 5:\n",
    "            minEllipse[i] = cv.fitEllipse(c)\n",
    "\n",
    "    centerx_elipse= np.array(minEllipse[0][0])[0]\n",
    "    centery_elipse= np.array(minEllipse[0][0])[1]\n",
    "\n",
    "    large_elipse= np.array(minEllipse[0][1])[1]\n",
    "    width_elipse= np.array(minEllipse[0][1])[0]\n",
    "\n",
    "    area= area_elipse(large_elipse, width_elipse)\n",
    "    perimetro=perimetro_elipse(large_elipse, width_elipse)\n",
    "\n",
    "\n",
    "    img_gray = cv.cvtColor(img, cv.COLOR_BGR2GRAY)\n",
    "    img_r = cv.resize(img_gray, (48,31), interpolation = cv.INTER_NEAREST)\n",
    "    #img_r = cv.resize(img_gray, (95,62), interpolation = cv.INTER_NEAREST)\n",
    "    datos= [3, centerx_elipse, centery_elipse, large_elipse, width_elipse, area, perimetro]\n",
    "    fila = np.append(datos,  img_r.flatten())\n",
    "    fila = fila.reshape(1, 1495  )\n",
    "    #fila = fila.reshape(1, 5897  )\n",
    "    df_tercera_e = df_tercera_e.append(pd.DataFrame(fila))\n",
    "    count = count + 1\n",
    "print(count)"
   ]
  },
  {
   "cell_type": "code",
   "execution_count": 9,
   "metadata": {},
   "outputs": [],
   "source": [
    "# Uniendo los dataframe y guardandolo en un csv\n",
    "frames_e = [df_primera_e, df_segunda_e, df_tercera_e]\n",
    "df_chiles_train = pd.concat(frames_e)\n",
    "#df_chiles_train.to_csv('datos/df_train_sinrotar_3cat.csv', header=False, index=False)\n",
    "df_chiles_train.to_csv('datos/df_train_DA_3cat.csv', header=False, index=False)"
   ]
  },
  {
   "cell_type": "markdown",
   "metadata": {},
   "source": [
    "# Preparando el dataframe de prueba (test)"
   ]
  },
  {
   "cell_type": "code",
   "execution_count": 10,
   "metadata": {},
   "outputs": [
    {
     "name": "stdout",
     "output_type": "stream",
     "text": [
      "320\n"
     ]
    }
   ],
   "source": [
    "# Dataframe Primera clase\n",
    "count = 0\n",
    "df_primera_t = pd.DataFrame()\n",
    "for imagen in glob(data + '/Primera/Test/*.jpg'):\n",
    "    img = cv.imread(imagen)\n",
    "\n",
    "    \n",
    "    cnts= contornos(img)\n",
    "    minRect = [None]*len(cnts)\n",
    "    minEllipse = [None]*len(cnts)\n",
    "    for i, c in enumerate(cnts):\n",
    "        minRect[i] = cv.minAreaRect(c)\n",
    "        if c.shape[0] > 5:\n",
    "            minEllipse[i] = cv.fitEllipse(c)\n",
    "\n",
    "    centerx_elipse= np.array(minEllipse[0][0])[0]\n",
    "    centery_elipse= np.array(minEllipse[0][0])[1]\n",
    "\n",
    "    large_elipse= np.array(minEllipse[0][1])[1]\n",
    "    width_elipse= np.array(minEllipse[0][1])[0]\n",
    "\n",
    "    area= area_elipse(large_elipse, width_elipse)\n",
    "    perimetro=perimetro_elipse(large_elipse, width_elipse)\n",
    "\n",
    "\n",
    "    img_gray = cv.cvtColor(img, cv.COLOR_BGR2GRAY)\n",
    "    img_r = cv.resize(img_gray, (48,31), interpolation = cv.INTER_NEAREST)\n",
    "    #img_r = cv.resize(img_gray, (95,62), interpolation = cv.INTER_NEAREST)\n",
    "    datos= [1, centerx_elipse, centery_elipse, large_elipse, width_elipse, area, perimetro]\n",
    "    fila = np.append(datos,  img_r.flatten())\n",
    "    fila = fila.reshape(1, 1495  )\n",
    "    #fila = fila.reshape(1, 5897  )\n",
    "    df_primera_t = df_primera_t.append(pd.DataFrame(fila))\n",
    "    count = count + 1\n",
    "print(count)"
   ]
  },
  {
   "cell_type": "code",
   "execution_count": 11,
   "metadata": {},
   "outputs": [
    {
     "name": "stdout",
     "output_type": "stream",
     "text": [
      "480\n"
     ]
    }
   ],
   "source": [
    "# Dataframe segunda clase\n",
    "count = 0\n",
    "df_segunda_t = pd.DataFrame()\n",
    "for imagen in glob(data + '/Segunda/Test/*.jpg'):\n",
    "    img = cv.imread(imagen)\n",
    "\n",
    "    \n",
    "    cnts= contornos(img)\n",
    "    minRect = [None]*len(cnts)\n",
    "    minEllipse = [None]*len(cnts)\n",
    "    for i, c in enumerate(cnts):\n",
    "        minRect[i] = cv.minAreaRect(c)\n",
    "        if c.shape[0] > 5:\n",
    "            minEllipse[i] = cv.fitEllipse(c)\n",
    "\n",
    "    centerx_elipse= np.array(minEllipse[0][0])[0]\n",
    "    centery_elipse= np.array(minEllipse[0][0])[1]\n",
    "\n",
    "    large_elipse= np.array(minEllipse[0][1])[1]\n",
    "    width_elipse= np.array(minEllipse[0][1])[0]\n",
    "\n",
    "    area= area_elipse(large_elipse, width_elipse)\n",
    "    perimetro=perimetro_elipse(large_elipse, width_elipse)\n",
    "\n",
    "\n",
    "    img_gray = cv.cvtColor(img, cv.COLOR_BGR2GRAY)\n",
    "    img_r = cv.resize(img_gray, (48,31), interpolation = cv.INTER_NEAREST)\n",
    "    #img_r = cv.resize(img_gray, (95,62), interpolation = cv.INTER_NEAREST)\n",
    "    datos= [2, centerx_elipse, centery_elipse, large_elipse, width_elipse, area, perimetro]\n",
    "    fila = np.append(datos,  img_r.flatten())\n",
    "    fila = fila.reshape(1, 1495  )\n",
    "    #fila = fila.reshape(1, 5897  )\n",
    "    df_segunda_t = df_segunda_t.append(pd.DataFrame(fila))\n",
    "    count = count + 1\n",
    "print(count)"
   ]
  },
  {
   "cell_type": "code",
   "execution_count": 12,
   "metadata": {},
   "outputs": [
    {
     "name": "stdout",
     "output_type": "stream",
     "text": [
      "232\n"
     ]
    }
   ],
   "source": [
    "# Dataframe tercera clase\n",
    "count = 0\n",
    "df_tercera_t = pd.DataFrame()\n",
    "for imagen in glob(data + '/Tercera/Test/*.jpg'):\n",
    "    img = cv.imread(imagen)\n",
    "\n",
    "    \n",
    "    cnts= contornos(img)\n",
    "    minRect = [None]*len(cnts)\n",
    "    minEllipse = [None]*len(cnts)\n",
    "    for i, c in enumerate(cnts):\n",
    "        minRect[i] = cv.minAreaRect(c)\n",
    "        if c.shape[0] > 5:\n",
    "            minEllipse[i] = cv.fitEllipse(c)\n",
    "\n",
    "    centerx_elipse= np.array(minEllipse[0][0])[0]\n",
    "    centery_elipse= np.array(minEllipse[0][0])[1]\n",
    "\n",
    "    large_elipse= np.array(minEllipse[0][1])[1]\n",
    "    width_elipse= np.array(minEllipse[0][1])[0]\n",
    "\n",
    "    area= area_elipse(large_elipse, width_elipse)\n",
    "    perimetro=perimetro_elipse(large_elipse, width_elipse)\n",
    "\n",
    "\n",
    "    img_gray = cv.cvtColor(img, cv.COLOR_BGR2GRAY)\n",
    "    img_r = cv.resize(img_gray, (48,31), interpolation = cv.INTER_NEAREST)\n",
    "    #img_r = cv.resize(img_gray, (95,62), interpolation = cv.INTER_NEAREST)\n",
    "    datos= [3, centerx_elipse, centery_elipse, large_elipse, width_elipse, area, perimetro]\n",
    "    fila = np.append(datos,  img_r.flatten())\n",
    "    fila = fila.reshape(1, 1495  )\n",
    "    #fila = fila.reshape(1, 5897  )\n",
    "    df_tercera_t = df_tercera_t.append(pd.DataFrame(fila))\n",
    "    count = count + 1\n",
    "print(count)"
   ]
  },
  {
   "cell_type": "code",
   "execution_count": 13,
   "metadata": {},
   "outputs": [],
   "source": [
    "# Uniendo los dataframe y guardandolo en un csv\n",
    "frames_e = [df_primera_t, df_segunda_t, df_tercera_t]\n",
    "df_chiles_test = pd.concat(frames_e)\n",
    "#df_chiles_test.to_csv('datos/df_test_sinrotar_3cat.csv', header=False, index=False)\n",
    "df_chiles_test.to_csv('datos/df_test_DA_3cat.csv', header=False, index=False)"
   ]
  },
  {
   "cell_type": "code",
   "execution_count": null,
   "metadata": {},
   "outputs": [],
   "source": []
  }
 ],
 "metadata": {
  "interpreter": {
   "hash": "916dbcbb3f70747c44a77c7bcd40155683ae19c65e1c03b4aa3499c5328201f1"
  },
  "kernelspec": {
   "display_name": "Python 3.8.10 64-bit",
   "language": "python",
   "name": "python3"
  },
  "language_info": {
   "codemirror_mode": {
    "name": "ipython",
    "version": 3
   },
   "file_extension": ".py",
   "mimetype": "text/x-python",
   "name": "python",
   "nbconvert_exporter": "python",
   "pygments_lexer": "ipython3",
   "version": "3.8.10"
  },
  "orig_nbformat": 4
 },
 "nbformat": 4,
 "nbformat_minor": 2
}
